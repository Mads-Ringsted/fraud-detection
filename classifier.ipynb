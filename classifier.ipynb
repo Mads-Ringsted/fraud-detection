{
 "cells": [
  {
   "cell_type": "code",
   "execution_count": 23,
   "metadata": {},
   "outputs": [],
   "source": [
    "import torch\n",
    "from model import AutoEncoder\n",
    "from sklearn.metrics import classification_report\n",
    "from sklearn.cluster import KMeans, DBSCAN\n",
    "import pandas as pd\n",
    "#import clustering metrics \n",
    "from sklearn.metrics import davies_bouldin_score, silhouette_score\n",
    "import numpy as np\n",
    "# load from ordered dict\n",
    "# state_dict = torch.load('model.pth')\n",
    "# # load from state dict\n",
    "# model = AutoEncoder()\n",
    "# model.load_state_dict(state_dict)\n",
    "# model.eval()"
   ]
  },
  {
   "cell_type": "markdown",
   "metadata": {},
   "source": [
    "#### Load and preprocess data"
   ]
  },
  {
   "cell_type": "code",
   "execution_count": 57,
   "metadata": {},
   "outputs": [],
   "source": [
    "data = pd.read_csv('creditcard.csv')\n",
    "amount = data['Amount']\n",
    "time = data['Time']\n",
    "X = data.drop(['Class', 'Amount', 'Time'], axis=1)\n",
    "y = data['Class']\n",
    "\n",
    "# sample data to reduce class imbalance\n",
    "non_fraud_df = X[y == 0].iloc[:2000]\n",
    "fraud_df = X[y == 1]\n",
    "\n",
    "X_sample = pd.concat([non_fraud_df, fraud_df])\n",
    "fraud_idx = np.zeros(len(X_sample))\n",
    "fraud_idx[-len(fraud_df):] = 1"
   ]
  },
  {
   "cell_type": "markdown",
   "metadata": {},
   "source": [
    "#### Clustering on raw data"
   ]
  },
  {
   "cell_type": "code",
   "execution_count": 106,
   "metadata": {},
   "outputs": [],
   "source": [
    "def purity_score(X: pd.DataFrame):\n",
    "    global_class_distribution = X['Fraud'].value_counts(normalize=True).to_dict()\n",
    "    # Compute metrics for each cluster, including adjusted purity\n",
    "    cluster_purity = []\n",
    "    cluster_weight = []\n",
    "\n",
    "    for cluster_id in np.unique(X['Cluster']):\n",
    "        cluster_data = X[X['Cluster'] == cluster_id]\n",
    "        total_in_cluster = len(cluster_data)\n",
    "        \n",
    "        # Compute class distribution within the cluster\n",
    "        class_distribution = cluster_data['Fraud'].value_counts(normalize=True)\n",
    "        \n",
    "        # Purity: Fraction of the dominant class in the cluster\n",
    "        dominant_class = class_distribution.idxmax()\n",
    "        purity = class_distribution[dominant_class]\n",
    "        \n",
    "        # Expected purity based on global distribution\n",
    "        expected_purity = global_class_distribution[dominant_class]\n",
    "        \n",
    "        # Adjusted Purity\n",
    "        if purity > expected_purity:\n",
    "            adjusted_purity = (purity - expected_purity) / (1 - expected_purity)\n",
    "        else:\n",
    "            adjusted_purity = 0  # Set to 0 if purity is less than or equal to expected purity\n",
    "        \n",
    "        # Weighted purity\n",
    "        cluster_purity.append(adjusted_purity)\n",
    "        cluster_weight.append(total_in_cluster / len(X_sample))\n",
    "    \n",
    "    # Compute the weighted average of cluster purity\n",
    "    purity = np.sum(np.array(cluster_purity) * np.array(cluster_weight))\n",
    "    return purity\n",
    "\n",
    "def score_clustering(algorithm, X, class_labels):\n",
    "    X = X.copy()\n",
    "    clusters = algorithm.fit(X)\n",
    "    cluster_labels = clusters.labels_\n",
    "    X['Cluster'] = cluster_labels\n",
    "    X['Fraud'] = class_labels\n",
    "    # clustering scores\n",
    "    david_score = davies_bouldin_score(X, cluster_labels)\n",
    "    sil_score = silhouette_score(X, cluster_labels)\n",
    "    purity = purity_score(X)\n",
    "    return david_score, sil_score, purity\n",
    "\n",
    "    # purity score"
   ]
  },
  {
   "cell_type": "code",
   "execution_count": 110,
   "metadata": {},
   "outputs": [
    {
     "name": "stdout",
     "output_type": "stream",
     "text": [
      "   N_features  KMeans_Davies_Bouldin  KMeans_Silhouette  KMeans_Purity\n",
      "0           2               0.542726           0.641630       0.461272\n",
      "1           3               0.630811           0.562065       0.701850\n",
      "2           5               0.841433           0.577800       0.793813\n",
      "3          10               0.657906           0.608716       0.739337\n",
      "4          15               1.236534           0.435483       0.804878\n",
      "5          20               0.849672           0.623534       0.792683\n",
      "   N_features  DBSCAN_Davies_Bouldin  DBSCAN_Silhouette  DBSCAN_Purity\n",
      "0           2               1.196259           0.474127       0.349419\n",
      "1           3               0.895155           0.330439       0.810146\n",
      "2           5               0.831900           0.108728       0.507193\n",
      "3          10               0.841945          -0.211458       0.208240\n",
      "4          15               1.057017          -0.352267       0.036116\n",
      "5          20               1.215708          -0.374148       0.027287\n"
     ]
    }
   ],
   "source": [
    "N_feature = [2,3,5,10,15,20]\n",
    "\n",
    "results = []\n",
    "\n",
    "for n_features in N_feature:\n",
    "    kmeans = KMeans(n_clusters=5, random_state=0)\n",
    "    dbscan = DBSCAN(eps=0.5, min_samples=5)\n",
    "    \n",
    "    kmeans_scores = score_clustering(kmeans, X_sample.iloc[:, :n_features], X_sample['Fraud'])\n",
    "    dbscan_scores = score_clustering(dbscan, X_sample.iloc[:, :n_features], X_sample['Fraud'])\n",
    "    \n",
    "    results.append({\n",
    "        'N_features': n_features,\n",
    "        'KMeans_Davies_Bouldin': kmeans_scores[0],\n",
    "        'KMeans_Silhouette': kmeans_scores[1],\n",
    "        'KMeans_Purity': kmeans_scores[2],\n",
    "        'DBSCAN_Davies_Bouldin': dbscan_scores[0],\n",
    "        'DBSCAN_Silhouette': dbscan_scores[1],\n",
    "        'DBSCAN_Purity': dbscan_scores[2]\n",
    "    })\n",
    "\n",
    "results_df = pd.DataFrame(results)\n",
    "results_kmeans = results_df[['N_features', 'KMeans_Davies_Bouldin', 'KMeans_Silhouette', 'KMeans_Purity']]\n",
    "results_dbscan = results_df[['N_features', 'DBSCAN_Davies_Bouldin', 'DBSCAN_Silhouette', 'DBSCAN_Purity']]\n",
    "\n",
    "print(results_kmeans)\n",
    "print(results_dbscan)"
   ]
  }
 ],
 "metadata": {
  "kernelspec": {
   "display_name": ".venv",
   "language": "python",
   "name": "python3"
  },
  "language_info": {
   "codemirror_mode": {
    "name": "ipython",
    "version": 3
   },
   "file_extension": ".py",
   "mimetype": "text/x-python",
   "name": "python",
   "nbconvert_exporter": "python",
   "pygments_lexer": "ipython3",
   "version": "3.10.9"
  }
 },
 "nbformat": 4,
 "nbformat_minor": 2
}
