{
 "cells": [
  {
   "cell_type": "code",
   "execution_count": null,
   "metadata": {},
   "outputs": [],
   "source": [
    "import pandas as pd\n",
    "import numpy as np\n",
    "from sklearn.preprocessing import StandardScaler\n",
    "from sklearn.model_selection import train_test_split\n",
    "from sklearn.neighbors import NearestNeighbors\n",
    "import networkx as nx\n",
    "from community import community_louvain\n",
    "\n",
    "# Load dataset\n",
    "df = pd.read_csv('creditcard.csv')\n",
    "\n",
    "# Separate features and target variable\n",
    "X = df.drop(['Class'], axis=1)\n",
    "y = df['Class']\n",
    "\n",
    "# Standardize features\n",
    "scaler = StandardScaler()\n",
    "X_scaled = scaler.fit_transform(X)\n",
    "\n",
    "# Perform train-test split\n",
    "X_train, X_test, y_train, y_test = train_test_split(X_scaled, y, test_size=0.2, random_state=42)\n"
   ]
  },
  {
   "cell_type": "code",
   "execution_count": null,
   "metadata": {},
   "outputs": [],
   "source": [
    "modularity_scores = []\n",
    "k_values = range(5, 30, 5)  # Example range for k\n",
    "\n",
    "for k in k_values:\n",
    "    # Construct KNN graph\n",
    "    nn = NearestNeighbors(n_neighbors=k, metric='cosine')\n",
    "    nn.fit(X_train)\n",
    "    distances, indices = nn.kneighbors(X_train)\n",
    "    \n",
    "    # Build graph\n",
    "    G = nx.Graph() \n",
    "    for i, neighbors in enumerate(indices):\n",
    "        for j, dist in zip(neighbors, distances[i]):\n",
    "            if i != j:\n",
    "                G.add_edge(i, j, weight=1 - dist)\n",
    "    \n",
    "    # Apply Louvain clustering\n",
    "    partition = community_louvain.best_partition(G)\n",
    "    modularity = community_louvain.modularity(partition, G)\n",
    "    modularity_scores.append((k, modularity))\n",
    "\n",
    "# Find k with the highest modularity\n",
    "optimal_k = max(modularity_scores, key=lambda x: x[1])[0]\n",
    "print(f\"Optimal k based on modularity: {optimal_k}\")\n",
    "\n",
    "# Map partition dictionary to a list aligned with training data indices\n",
    "train_clusters = np.array([partition[i] for i in range(len(X_train))])"
   ]
  },
  {
   "cell_type": "code",
   "execution_count": null,
   "metadata": {},
   "outputs": [],
   "source": [
    "# Compute cluster prototypes (mean vectors of clusters)\n",
    "cluster_ids = np.unique(train_clusters)\n",
    "cluster_prototypes = {}\n",
    "\n",
    "for cluster_id in cluster_ids:\n",
    "    cluster_members = X_train[train_clusters == cluster_id]\n",
    "    cluster_prototype = cluster_members.mean(axis=0)\n",
    "    cluster_prototypes[cluster_id] = cluster_prototype\n"
   ]
  },
  {
   "cell_type": "code",
   "execution_count": null,
   "metadata": {},
   "outputs": [],
   "source": [
    "def compute_cluster_distances(X, cluster_prototypes):\n",
    "    distances = []\n",
    "    for x in X:\n",
    "        dists = [np.linalg.norm(x - cluster_prototypes[cluster_id]) for cluster_id in cluster_prototypes]\n",
    "        distances.append(dists)\n",
    "    return np.array(distances)\n",
    "\n",
    "# Compute distances for training data\n",
    "train_cluster_distances = compute_cluster_distances(X_train, cluster_prototypes)\n",
    "\n",
    "# Compute distances for test data\n",
    "test_cluster_distances = compute_cluster_distances(X_test, cluster_prototypes)\n"
   ]
  },
  {
   "cell_type": "code",
   "execution_count": null,
   "metadata": {},
   "outputs": [],
   "source": [
    "# Combine original features with cluster distance features\n",
    "X_train_with_features = np.hstack((X_train, train_cluster_distances))\n",
    "X_test_with_features = np.hstack((X_test, test_cluster_distances))\n"
   ]
  },
  {
   "cell_type": "code",
   "execution_count": null,
   "metadata": {},
   "outputs": [],
   "source": [
    "# Print shapes of original and new feature sets\n",
    "print('Original feature set shape:', X_train.shape)\n",
    "print('New feature set shape:', X_train_with_features.shape)\n",
    "\n",
    "# Print shapes of original and new test feature sets\n",
    "print('Original test feature set shape:', X_test.shape)\n",
    "print('New test feature set shape:', X_test_with_features.shape)\n"
   ]
  }
 ],
 "metadata": {
  "kernelspec": {
   "display_name": "Python 3",
   "language": "python",
   "name": "python3"
  },
  "language_info": {
   "codemirror_mode": {
    "name": "ipython",
    "version": 3
   },
   "file_extension": ".py",
   "mimetype": "text/x-python",
   "name": "python",
   "nbconvert_exporter": "python",
   "pygments_lexer": "ipython3",
   "version": "3.12.5"
  }
 },
 "nbformat": 4,
 "nbformat_minor": 2
}
