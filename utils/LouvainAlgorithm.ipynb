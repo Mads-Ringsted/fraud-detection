{
 "cells": [
  {
   "cell_type": "code",
   "execution_count": 1,
   "metadata": {},
   "outputs": [],
   "source": [
    "import pandas as pd\n",
    "import numpy as np\n",
    "from sklearn.preprocessing import StandardScaler\n",
    "from sklearn.model_selection import train_test_split\n",
    "from sklearn.neighbors import NearestNeighbors\n",
    "import networkx as nx\n",
    "from community import community_louvain\n",
    "\n",
    "# Load dataset\n",
    "df = pd.read_csv('creditcard.csv')\n",
    "\n",
    "# Separate features and target variable\n",
    "X = df.drop(['Class'], axis=1)\n",
    "y = df['Class']\n",
    "\n",
    "# Standardize features\n",
    "scaler = StandardScaler()\n",
    "X_scaled = scaler.fit_transform(X)\n",
    "\n",
    "# Perform train-test split\n",
    "X_train, X_test, y_train, y_test = train_test_split(X_scaled, y, test_size=0.2, random_state=42)\n"
   ]
  },
  {
   "cell_type": "code",
   "execution_count": null,
   "metadata": {},
   "outputs": [],
   "source": [
    "# Build KNN graph from training data\n",
    "k_neighbors = 10\n",
    "nn = NearestNeighbors(n_neighbors=k_neighbors, metric='cosine').fit(X_train)\n",
    "distances, indices = nn.kneighbors(X_train)\n",
    "\n",
    "# Initialize a graph\n",
    "G = nx.Graph()\n",
    "\n",
    "# Add edges based on nearest neighbors in training data\n",
    "for i, neighbors in enumerate(indices):\n",
    "    for j, dist in zip(neighbors, distances[i]):\n",
    "        if i != j:  # Avoid self-loops\n",
    "            G.add_edge(i, j, weight=1 - dist)  # Convert cosine distance to similarity\n",
    "\n",
    "# Apply Louvain clustering on the training graph\n",
    "partition = community_louvain.best_partition(G)\n",
    "\n",
    "# Map partition dictionary to a list aligned with training data indices\n",
    "train_clusters = np.array([partition[i] for i in range(len(X_train))])\n"
   ]
  },
  {
   "cell_type": "code",
   "execution_count": null,
   "metadata": {},
   "outputs": [],
   "source": [
    "# Compute cluster prototypes (mean vectors of clusters)\n",
    "cluster_ids = np.unique(train_clusters)\n",
    "cluster_prototypes = {}\n",
    "\n",
    "for cluster_id in cluster_ids:\n",
    "    cluster_members = X_train[train_clusters == cluster_id]\n",
    "    cluster_prototype = cluster_members.mean(axis=0)\n",
    "    cluster_prototypes[cluster_id] = cluster_prototype\n"
   ]
  },
  {
   "cell_type": "code",
   "execution_count": null,
   "metadata": {},
   "outputs": [],
   "source": [
    "def compute_cluster_distances(X, cluster_prototypes):\n",
    "    distances = []\n",
    "    for x in X:\n",
    "        dists = [np.linalg.norm(x - cluster_prototypes[cluster_id]) for cluster_id in cluster_prototypes]\n",
    "        distances.append(dists)\n",
    "    return np.array(distances)\n",
    "\n",
    "# Compute distances for training data\n",
    "train_cluster_distances = compute_cluster_distances(X_train, cluster_prototypes)\n",
    "\n",
    "# Compute distances for test data\n",
    "test_cluster_distances = compute_cluster_distances(X_test, cluster_prototypes)\n"
   ]
  },
  {
   "cell_type": "code",
   "execution_count": null,
   "metadata": {},
   "outputs": [],
   "source": [
    "# Combine original features with cluster distance features\n",
    "X_train_with_features = np.hstack((X_train, train_cluster_distances))\n",
    "X_test_with_features = np.hstack((X_test, test_cluster_distances))\n"
   ]
  }
 ],
 "metadata": {
  "kernelspec": {
   "display_name": "Python 3",
   "language": "python",
   "name": "python3"
  },
  "language_info": {
   "codemirror_mode": {
    "name": "ipython",
    "version": 3
   },
   "file_extension": ".py",
   "mimetype": "text/x-python",
   "name": "python",
   "nbconvert_exporter": "python",
   "pygments_lexer": "ipython3",
   "version": "3.12.5"
  }
 },
 "nbformat": 4,
 "nbformat_minor": 2
}
