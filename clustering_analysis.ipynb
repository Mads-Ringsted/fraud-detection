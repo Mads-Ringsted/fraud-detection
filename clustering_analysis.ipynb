{
 "cells": [
  {
   "cell_type": "code",
   "execution_count": 1,
   "metadata": {
    "ExecuteTime": {
     "end_time": "2024-12-03T16:57:28.820239Z",
     "start_time": "2024-12-03T16:57:27.424062Z"
    }
   },
   "outputs": [],
   "source": [
    "from utils.autoencoder import AutoEncoder, train_autoencoder\n",
    "from sklearn.metrics import classification_report\n",
    "import pandas as pd\n",
    "from utils.scoring import purity_score, score_clustering, clustering_classification_report\n",
    "import numpy as np\n",
    "from sklearn.model_selection import train_test_split, GridSearchCV\n",
    "from sklearn.ensemble import RandomForestClassifier\n",
    "from sklearn.linear_model import LogisticRegression\n",
    "from sklearn.decomposition import PCA\n",
    "from sklearn.preprocessing import MinMaxScaler\n",
    "import matplotlib.pyplot as plt\n",
    "import matplotlib.patches as mpatches\n",
    "import matplotlib.lines as mlines\n",
    "from utils.spectral_clustering import score_spectral, extract_and_visualize_graph\n",
    "from utils.clustering import score_dbscan, score_kmeans, fit_dbscan, fit_kmeans, extract_kmeans_cluster_labels, test_dbscan, tune_kmeans_dbscan\n",
    "#from utils.SpectralNet import score_spectral_net\n",
    "from utils.plotting import plot_2d_clusters\n",
    "from xgboost import XGBClassifier\n",
    "import warnings\n",
    "\n",
    "\n",
    "warnings.filterwarnings('ignore')"
   ]
  },
  {
   "cell_type": "markdown",
   "metadata": {},
   "source": [
    "# Load and preprocess data"
   ]
  },
  {
   "cell_type": "code",
   "execution_count": 2,
   "metadata": {
    "ExecuteTime": {
     "end_time": "2024-12-03T16:57:29.513423Z",
     "start_time": "2024-12-03T16:57:28.823250Z"
    }
   },
   "outputs": [],
   "source": [
    "data = pd.read_csv('creditcard.csv')\n",
    "X = data.drop(['Class', 'Amount', 'Time'], axis=1)\n",
    "y = data['Class']\n",
    "\n",
    "X_scale = MinMaxScaler().fit_transform(X)\n",
    "\n",
    "# sample data to reduce class imbalance\n",
    "non_fraud_df = X_scale[y == 0][:2000]\n",
    "fraud_df = X_scale[y == 1]\n",
    "\n",
    "X_sample = np.vstack([non_fraud_df, fraud_df])\n",
    "fraud_idx = np.zeros(len(X_sample))\n",
    "fraud_idx[-len(fraud_df):] = 1\n",
    "\n",
    "indices = np.arange(len(X_sample))\n",
    "X_train, X_test, y_train, y_test, train_indices, test_indices = train_test_split(X_sample, fraud_idx, indices, test_size=0.2, random_state=42, stratify=fraud_idx)"
   ]
  },
  {
   "cell_type": "markdown",
   "metadata": {},
   "source": [
    "# Clustering on raw data"
   ]
  },
  {
   "cell_type": "markdown",
   "metadata": {},
   "source": [
    "## Kmeans"
   ]
  },
  {
   "cell_type": "code",
   "execution_count": 6,
   "metadata": {
    "ExecuteTime": {
     "end_time": "2024-12-03T16:57:29.968599Z",
     "start_time": "2024-12-03T16:57:29.632083Z"
    }
   },
   "outputs": [
    {
     "data": {
      "text/html": [
       "<div>\n",
       "<style scoped>\n",
       "    .dataframe tbody tr th:only-of-type {\n",
       "        vertical-align: middle;\n",
       "    }\n",
       "\n",
       "    .dataframe tbody tr th {\n",
       "        vertical-align: top;\n",
       "    }\n",
       "\n",
       "    .dataframe thead th {\n",
       "        text-align: right;\n",
       "    }\n",
       "</style>\n",
       "<table border=\"1\" class=\"dataframe\">\n",
       "  <thead>\n",
       "    <tr style=\"text-align: right;\">\n",
       "      <th></th>\n",
       "      <th>n_clusters</th>\n",
       "      <th>Train_DB</th>\n",
       "      <th>Train_Sil</th>\n",
       "      <th>Train_Pur</th>\n",
       "      <th>Test_DB</th>\n",
       "      <th>Test_Sil</th>\n",
       "      <th>Test_Pur</th>\n",
       "    </tr>\n",
       "  </thead>\n",
       "  <tbody>\n",
       "    <tr>\n",
       "      <th>0</th>\n",
       "      <td>2</td>\n",
       "      <td>0.84</td>\n",
       "      <td>0.63</td>\n",
       "      <td>0.56</td>\n",
       "      <td>0.79</td>\n",
       "      <td>0.64</td>\n",
       "      <td>0.60</td>\n",
       "    </tr>\n",
       "    <tr>\n",
       "      <th>1</th>\n",
       "      <td>3</td>\n",
       "      <td>1.09</td>\n",
       "      <td>0.48</td>\n",
       "      <td>0.79</td>\n",
       "      <td>1.05</td>\n",
       "      <td>0.47</td>\n",
       "      <td>0.81</td>\n",
       "    </tr>\n",
       "    <tr>\n",
       "      <th>2</th>\n",
       "      <td>5</td>\n",
       "      <td>1.97</td>\n",
       "      <td>0.12</td>\n",
       "      <td>0.77</td>\n",
       "      <td>1.93</td>\n",
       "      <td>0.13</td>\n",
       "      <td>0.79</td>\n",
       "    </tr>\n",
       "    <tr>\n",
       "      <th>3</th>\n",
       "      <td>10</td>\n",
       "      <td>1.96</td>\n",
       "      <td>0.11</td>\n",
       "      <td>0.82</td>\n",
       "      <td>1.74</td>\n",
       "      <td>0.12</td>\n",
       "      <td>0.83</td>\n",
       "    </tr>\n",
       "  </tbody>\n",
       "</table>\n",
       "</div>"
      ],
      "text/plain": [
       "   n_clusters  Train_DB  Train_Sil  Train_Pur  Test_DB  Test_Sil  Test_Pur\n",
       "0           2      0.84       0.63       0.56     0.79      0.64      0.60\n",
       "1           3      1.09       0.48       0.79     1.05      0.47      0.81\n",
       "2           5      1.97       0.12       0.77     1.93      0.13      0.79\n",
       "3          10      1.96       0.11       0.82     1.74      0.12      0.83"
      ]
     },
     "execution_count": 6,
     "metadata": {},
     "output_type": "execute_result"
    }
   ],
   "source": [
    "n_clusters = [2, 3, 5, 10]\n",
    "cluster_metrics, classification_metrics = score_kmeans(X_train, X_test, y_train, y_test)\n",
    "results_df = pd.DataFrame(cluster_metrics)\n",
    "reports_df = pd.DataFrame(classification_metrics)\n",
    "\n",
    "results_df.round(2)"
   ]
  },
  {
   "cell_type": "markdown",
   "metadata": {},
   "source": [
    "## DBSCAN"
   ]
  },
  {
   "cell_type": "code",
   "execution_count": 7,
   "metadata": {
    "ExecuteTime": {
     "end_time": "2024-12-03T16:57:30.425125Z",
     "start_time": "2024-12-03T16:57:30.002282Z"
    }
   },
   "outputs": [
    {
     "data": {
      "text/html": [
       "<div>\n",
       "<style scoped>\n",
       "    .dataframe tbody tr th:only-of-type {\n",
       "        vertical-align: middle;\n",
       "    }\n",
       "\n",
       "    .dataframe tbody tr th {\n",
       "        vertical-align: top;\n",
       "    }\n",
       "\n",
       "    .dataframe thead th {\n",
       "        text-align: right;\n",
       "    }\n",
       "</style>\n",
       "<table border=\"1\" class=\"dataframe\">\n",
       "  <thead>\n",
       "    <tr style=\"text-align: right;\">\n",
       "      <th></th>\n",
       "      <th>eps</th>\n",
       "      <th>min_samples</th>\n",
       "      <th>Train_DB</th>\n",
       "      <th>Train_Sil</th>\n",
       "      <th>Train_Pur</th>\n",
       "      <th>Test_DB</th>\n",
       "      <th>Test_Sil</th>\n",
       "      <th>Test_Pur</th>\n",
       "    </tr>\n",
       "  </thead>\n",
       "  <tbody>\n",
       "    <tr>\n",
       "      <th>0</th>\n",
       "      <td>0.10</td>\n",
       "      <td>5</td>\n",
       "      <td>1.60</td>\n",
       "      <td>-0.22</td>\n",
       "      <td>0.49</td>\n",
       "      <td>1.57</td>\n",
       "      <td>-0.27</td>\n",
       "      <td>0.42</td>\n",
       "    </tr>\n",
       "    <tr>\n",
       "      <th>1</th>\n",
       "      <td>0.10</td>\n",
       "      <td>10</td>\n",
       "      <td>2.19</td>\n",
       "      <td>-0.19</td>\n",
       "      <td>0.38</td>\n",
       "      <td>2.11</td>\n",
       "      <td>-0.22</td>\n",
       "      <td>0.35</td>\n",
       "    </tr>\n",
       "    <tr>\n",
       "      <th>2</th>\n",
       "      <td>0.10</td>\n",
       "      <td>15</td>\n",
       "      <td>2.28</td>\n",
       "      <td>-0.23</td>\n",
       "      <td>0.31</td>\n",
       "      <td>2.31</td>\n",
       "      <td>-0.26</td>\n",
       "      <td>0.28</td>\n",
       "    </tr>\n",
       "    <tr>\n",
       "      <th>3</th>\n",
       "      <td>0.15</td>\n",
       "      <td>5</td>\n",
       "      <td>1.54</td>\n",
       "      <td>0.22</td>\n",
       "      <td>0.83</td>\n",
       "      <td>1.84</td>\n",
       "      <td>0.15</td>\n",
       "      <td>0.79</td>\n",
       "    </tr>\n",
       "    <tr>\n",
       "      <th>4</th>\n",
       "      <td>0.15</td>\n",
       "      <td>10</td>\n",
       "      <td>1.26</td>\n",
       "      <td>0.10</td>\n",
       "      <td>0.82</td>\n",
       "      <td>1.46</td>\n",
       "      <td>0.08</td>\n",
       "      <td>0.78</td>\n",
       "    </tr>\n",
       "    <tr>\n",
       "      <th>5</th>\n",
       "      <td>0.15</td>\n",
       "      <td>15</td>\n",
       "      <td>1.78</td>\n",
       "      <td>0.35</td>\n",
       "      <td>0.80</td>\n",
       "      <td>1.78</td>\n",
       "      <td>0.34</td>\n",
       "      <td>0.75</td>\n",
       "    </tr>\n",
       "    <tr>\n",
       "      <th>6</th>\n",
       "      <td>0.20</td>\n",
       "      <td>5</td>\n",
       "      <td>1.87</td>\n",
       "      <td>0.31</td>\n",
       "      <td>0.83</td>\n",
       "      <td>1.93</td>\n",
       "      <td>0.25</td>\n",
       "      <td>0.82</td>\n",
       "    </tr>\n",
       "    <tr>\n",
       "      <th>7</th>\n",
       "      <td>0.20</td>\n",
       "      <td>10</td>\n",
       "      <td>1.76</td>\n",
       "      <td>0.28</td>\n",
       "      <td>0.84</td>\n",
       "      <td>1.97</td>\n",
       "      <td>0.25</td>\n",
       "      <td>0.82</td>\n",
       "    </tr>\n",
       "    <tr>\n",
       "      <th>8</th>\n",
       "      <td>0.20</td>\n",
       "      <td>15</td>\n",
       "      <td>1.65</td>\n",
       "      <td>0.28</td>\n",
       "      <td>0.84</td>\n",
       "      <td>1.60</td>\n",
       "      <td>0.24</td>\n",
       "      <td>0.82</td>\n",
       "    </tr>\n",
       "    <tr>\n",
       "      <th>9</th>\n",
       "      <td>0.25</td>\n",
       "      <td>5</td>\n",
       "      <td>1.26</td>\n",
       "      <td>0.54</td>\n",
       "      <td>0.31</td>\n",
       "      <td>1.56</td>\n",
       "      <td>0.56</td>\n",
       "      <td>0.37</td>\n",
       "    </tr>\n",
       "    <tr>\n",
       "      <th>10</th>\n",
       "      <td>0.25</td>\n",
       "      <td>10</td>\n",
       "      <td>1.47</td>\n",
       "      <td>0.49</td>\n",
       "      <td>0.39</td>\n",
       "      <td>1.27</td>\n",
       "      <td>0.48</td>\n",
       "      <td>0.47</td>\n",
       "    </tr>\n",
       "    <tr>\n",
       "      <th>11</th>\n",
       "      <td>0.25</td>\n",
       "      <td>15</td>\n",
       "      <td>2.19</td>\n",
       "      <td>0.51</td>\n",
       "      <td>0.53</td>\n",
       "      <td>2.40</td>\n",
       "      <td>0.48</td>\n",
       "      <td>0.58</td>\n",
       "    </tr>\n",
       "  </tbody>\n",
       "</table>\n",
       "</div>"
      ],
      "text/plain": [
       "     eps  min_samples  Train_DB  Train_Sil  Train_Pur  Test_DB  Test_Sil  \\\n",
       "0   0.10            5      1.60      -0.22       0.49     1.57     -0.27   \n",
       "1   0.10           10      2.19      -0.19       0.38     2.11     -0.22   \n",
       "2   0.10           15      2.28      -0.23       0.31     2.31     -0.26   \n",
       "3   0.15            5      1.54       0.22       0.83     1.84      0.15   \n",
       "4   0.15           10      1.26       0.10       0.82     1.46      0.08   \n",
       "5   0.15           15      1.78       0.35       0.80     1.78      0.34   \n",
       "6   0.20            5      1.87       0.31       0.83     1.93      0.25   \n",
       "7   0.20           10      1.76       0.28       0.84     1.97      0.25   \n",
       "8   0.20           15      1.65       0.28       0.84     1.60      0.24   \n",
       "9   0.25            5      1.26       0.54       0.31     1.56      0.56   \n",
       "10  0.25           10      1.47       0.49       0.39     1.27      0.48   \n",
       "11  0.25           15      2.19       0.51       0.53     2.40      0.48   \n",
       "\n",
       "    Test_Pur  \n",
       "0       0.42  \n",
       "1       0.35  \n",
       "2       0.28  \n",
       "3       0.79  \n",
       "4       0.78  \n",
       "5       0.75  \n",
       "6       0.82  \n",
       "7       0.82  \n",
       "8       0.82  \n",
       "9       0.37  \n",
       "10      0.47  \n",
       "11      0.58  "
      ]
     },
     "execution_count": 7,
     "metadata": {},
     "output_type": "execute_result"
    }
   ],
   "source": [
    "eps = [0.1, 0.15, 0.2, 0.25]\n",
    "min_samples = [5, 10, 15]\n",
    "dbscan_cluster_metrics, dbscan_classification_metrics = score_dbscan(X_train, X_test, y_train, y_test, eps, min_samples)\n",
    "dbscan_results_df = pd.DataFrame(dbscan_cluster_metrics)\n",
    "dbscan_reports_df = pd.DataFrame(dbscan_classification_metrics)\n",
    "\n",
    "dbscan_results_df.round(2)"
   ]
  },
  {
   "cell_type": "markdown",
   "metadata": {},
   "source": [
    "# Spectral Clustering\n",
    "With pairwise euclidean minimum distance from approximated train centroids to Xtest"
   ]
  },
  {
   "cell_type": "code",
   "execution_count": 8,
   "metadata": {
    "ExecuteTime": {
     "end_time": "2024-12-03T16:57:32.004046Z",
     "start_time": "2024-12-03T16:57:30.455335Z"
    }
   },
   "outputs": [
    {
     "data": {
      "text/html": [
       "<div>\n",
       "<style scoped>\n",
       "    .dataframe tbody tr th:only-of-type {\n",
       "        vertical-align: middle;\n",
       "    }\n",
       "\n",
       "    .dataframe tbody tr th {\n",
       "        vertical-align: top;\n",
       "    }\n",
       "\n",
       "    .dataframe thead th {\n",
       "        text-align: right;\n",
       "    }\n",
       "</style>\n",
       "<table border=\"1\" class=\"dataframe\">\n",
       "  <thead>\n",
       "    <tr style=\"text-align: right;\">\n",
       "      <th></th>\n",
       "      <th>n_clusters</th>\n",
       "      <th>Train_DB</th>\n",
       "      <th>Train_Sil</th>\n",
       "      <th>Train_Pur</th>\n",
       "      <th>Test_DB</th>\n",
       "      <th>Test_Sil</th>\n",
       "      <th>Test_Pur</th>\n",
       "    </tr>\n",
       "  </thead>\n",
       "  <tbody>\n",
       "    <tr>\n",
       "      <th>0</th>\n",
       "      <td>2</td>\n",
       "      <td>0.57</td>\n",
       "      <td>0.69</td>\n",
       "      <td>0.19</td>\n",
       "      <td>0.60</td>\n",
       "      <td>0.69</td>\n",
       "      <td>0.37</td>\n",
       "    </tr>\n",
       "    <tr>\n",
       "      <th>1</th>\n",
       "      <td>3</td>\n",
       "      <td>0.98</td>\n",
       "      <td>0.57</td>\n",
       "      <td>0.78</td>\n",
       "      <td>0.90</td>\n",
       "      <td>0.59</td>\n",
       "      <td>0.78</td>\n",
       "    </tr>\n",
       "    <tr>\n",
       "      <th>2</th>\n",
       "      <td>5</td>\n",
       "      <td>0.96</td>\n",
       "      <td>0.57</td>\n",
       "      <td>0.77</td>\n",
       "      <td>0.90</td>\n",
       "      <td>0.59</td>\n",
       "      <td>0.78</td>\n",
       "    </tr>\n",
       "    <tr>\n",
       "      <th>3</th>\n",
       "      <td>10</td>\n",
       "      <td>1.02</td>\n",
       "      <td>0.56</td>\n",
       "      <td>0.80</td>\n",
       "      <td>0.95</td>\n",
       "      <td>0.58</td>\n",
       "      <td>0.82</td>\n",
       "    </tr>\n",
       "  </tbody>\n",
       "</table>\n",
       "</div>"
      ],
      "text/plain": [
       "   n_clusters  Train_DB  Train_Sil  Train_Pur  Test_DB  Test_Sil  Test_Pur\n",
       "0           2      0.57       0.69       0.19     0.60      0.69      0.37\n",
       "1           3      0.98       0.57       0.78     0.90      0.59      0.78\n",
       "2           5      0.96       0.57       0.77     0.90      0.59      0.78\n",
       "3          10      1.02       0.56       0.80     0.95      0.58      0.82"
      ]
     },
     "execution_count": 8,
     "metadata": {},
     "output_type": "execute_result"
    }
   ],
   "source": [
    "spectral_cluster_metrics, spectral_classification_metrics = score_spectral(X_train, X_test, y_train, y_test)\n",
    "spectral_cluster_results_df = pd.DataFrame(spectral_cluster_metrics)\n",
    "spectral_cluster_reports_df = pd.DataFrame(spectral_classification_metrics)\n",
    "\n",
    "spectral_cluster_results_df.round(2)"
   ]
  },
  {
   "cell_type": "code",
   "execution_count": 6,
   "metadata": {
    "ExecuteTime": {
     "end_time": "2024-12-03T16:57:32.083890Z",
     "start_time": "2024-12-03T16:57:32.081515Z"
    }
   },
   "outputs": [],
   "source": [
    "# graph, plt_obj = extract_and_visualize_graph(X_train, y_train, affinity='rbf', gamma=1.0)\n",
    "# plt_obj.show()"
   ]
  },
  {
   "cell_type": "markdown",
   "metadata": {},
   "source": [
    "## SpectralNet"
   ]
  },
  {
   "cell_type": "code",
   "execution_count": 7,
   "metadata": {
    "ExecuteTime": {
     "end_time": "2024-12-03T16:57:47.793838Z",
     "start_time": "2024-12-03T16:57:32.201065Z"
    }
   },
   "outputs": [
    {
     "name": "stdout",
     "output_type": "stream",
     "text": [
      "Training SpectralNet:\n"
     ]
    },
    {
     "name": "stderr",
     "output_type": "stream",
     "text": [
      "Train Loss: 0.1026208, Valid Loss: 0.1649356, LR: 0.001000: 100%|██████████| 30/30 [00:03<00:00,  7.95it/s]\n"
     ]
    },
    {
     "name": "stdout",
     "output_type": "stream",
     "text": [
      "Training SpectralNet:\n"
     ]
    },
    {
     "name": "stderr",
     "output_type": "stream",
     "text": [
      "Train Loss: 0.4866607, Valid Loss: 1.5635267, LR: 0.000100: 100%|██████████| 30/30 [00:03<00:00,  8.51it/s]\n"
     ]
    },
    {
     "name": "stdout",
     "output_type": "stream",
     "text": [
      "Training SpectralNet:\n"
     ]
    },
    {
     "name": "stderr",
     "output_type": "stream",
     "text": [
      "Train Loss: 2.6633844, Valid Loss: 11.4138193, LR: 0.001000: 100%|██████████| 30/30 [00:03<00:00,  8.70it/s] \n"
     ]
    },
    {
     "name": "stdout",
     "output_type": "stream",
     "text": [
      "Training SpectralNet:\n"
     ]
    },
    {
     "name": "stderr",
     "output_type": "stream",
     "text": [
      "Train Loss: 14.6339464, Valid Loss: 28.5341110, LR: 0.001000: 100%|██████████| 30/30 [00:03<00:00,  8.54it/s] \n"
     ]
    },
    {
     "name": "stdout",
     "output_type": "stream",
     "text": [
      "   n_clusters  Train_DB  Train_Sil  Train_Pur  Test_DB  Test_Sil  Test_Pur\n",
      "0           2      0.95       0.57       0.77     0.90      0.60      0.77\n",
      "1           3      1.00       0.56       0.82     0.95      0.57      0.83\n",
      "2           5      0.99       0.56       0.81     4.48      0.11      0.24\n",
      "3          10      1.10       0.53       0.87     3.72      0.15      0.02\n"
     ]
    },
    {
     "data": {
      "text/html": [
       "<div>\n",
       "<style scoped>\n",
       "    .dataframe tbody tr th:only-of-type {\n",
       "        vertical-align: middle;\n",
       "    }\n",
       "\n",
       "    .dataframe tbody tr th {\n",
       "        vertical-align: top;\n",
       "    }\n",
       "\n",
       "    .dataframe thead th {\n",
       "        text-align: right;\n",
       "    }\n",
       "</style>\n",
       "<table border=\"1\" class=\"dataframe\">\n",
       "  <thead>\n",
       "    <tr style=\"text-align: right;\">\n",
       "      <th></th>\n",
       "      <th>n_clusters</th>\n",
       "      <th>Train_Acc</th>\n",
       "      <th>Train_F1</th>\n",
       "      <th>Train_Recall</th>\n",
       "      <th>Train_Precision</th>\n",
       "      <th>Test_Acc</th>\n",
       "      <th>Test_F1</th>\n",
       "      <th>Test_Recall</th>\n",
       "      <th>Test_Precision</th>\n",
       "    </tr>\n",
       "  </thead>\n",
       "  <tbody>\n",
       "    <tr>\n",
       "      <th>0</th>\n",
       "      <td>2</td>\n",
       "      <td>0.95</td>\n",
       "      <td>0.87</td>\n",
       "      <td>0.77</td>\n",
       "      <td>1.00</td>\n",
       "      <td>0.95</td>\n",
       "      <td>0.87</td>\n",
       "      <td>0.77</td>\n",
       "      <td>1.00</td>\n",
       "    </tr>\n",
       "    <tr>\n",
       "      <th>1</th>\n",
       "      <td>3</td>\n",
       "      <td>0.96</td>\n",
       "      <td>0.90</td>\n",
       "      <td>0.82</td>\n",
       "      <td>0.99</td>\n",
       "      <td>0.96</td>\n",
       "      <td>0.90</td>\n",
       "      <td>0.83</td>\n",
       "      <td>0.99</td>\n",
       "    </tr>\n",
       "    <tr>\n",
       "      <th>2</th>\n",
       "      <td>5</td>\n",
       "      <td>0.96</td>\n",
       "      <td>0.89</td>\n",
       "      <td>0.81</td>\n",
       "      <td>1.00</td>\n",
       "      <td>0.80</td>\n",
       "      <td>0.00</td>\n",
       "      <td>0.00</td>\n",
       "      <td>0.00</td>\n",
       "    </tr>\n",
       "    <tr>\n",
       "      <th>3</th>\n",
       "      <td>10</td>\n",
       "      <td>0.97</td>\n",
       "      <td>0.92</td>\n",
       "      <td>0.88</td>\n",
       "      <td>0.97</td>\n",
       "      <td>0.80</td>\n",
       "      <td>0.00</td>\n",
       "      <td>0.00</td>\n",
       "      <td>0.00</td>\n",
       "    </tr>\n",
       "  </tbody>\n",
       "</table>\n",
       "</div>"
      ],
      "text/plain": [
       "   n_clusters  Train_Acc  Train_F1  Train_Recall  Train_Precision  Test_Acc  \\\n",
       "0           2       0.95      0.87          0.77             1.00      0.95   \n",
       "1           3       0.96      0.90          0.82             0.99      0.96   \n",
       "2           5       0.96      0.89          0.81             1.00      0.80   \n",
       "3          10       0.97      0.92          0.88             0.97      0.80   \n",
       "\n",
       "   Test_F1  Test_Recall  Test_Precision  \n",
       "0     0.87         0.77            1.00  \n",
       "1     0.90         0.83            0.99  \n",
       "2     0.00         0.00            0.00  \n",
       "3     0.00         0.00            0.00  "
      ]
     },
     "execution_count": 7,
     "metadata": {},
     "output_type": "execute_result"
    }
   ],
   "source": [
    "spectralnet_cluster_metrics, spectralnet_classification_metrics = score_spectral_net(X_train, X_test, y_train, y_test)\n",
    "spectralnet_cluster_results_df = pd.DataFrame(spectralnet_cluster_metrics)\n",
    "spectralnet_cluster_reports_df = pd.DataFrame(spectralnet_classification_metrics)\n",
    "\n",
    "spectralnet_cluster_results_df.round(2)"
   ]
  },
  {
   "cell_type": "markdown",
   "metadata": {},
   "source": [
    "### Classifier - XGBoost - Baseline"
   ]
  },
  {
   "cell_type": "code",
   "execution_count": 62,
   "metadata": {},
   "outputs": [
    {
     "name": "stdout",
     "output_type": "stream",
     "text": [
      "Fitting 3 folds for each of 108 candidates, totalling 324 fits\n",
      "{'learning_rate': 0.1, 'max_depth': 7, 'n_estimators': 100, 'subsample': 0.8}\n"
     ]
    }
   ],
   "source": [
    "#Defining the XGB model\n",
    "xgb_model = XGBClassifier(\n",
    "    use_label_encoder=False,\n",
    "    eval_metric=\"logloss\",\n",
    "    random_state=42\n",
    ")\n",
    "\n",
    "#Define grid search for hyperparameter tuning of XGB\n",
    "param_grid = {\n",
    "    \"n_estimators\": [100, 200, 300],\n",
    "    \"max_depth\": [3, 5, 7],\n",
    "    \"learning_rate\": [0.001, 0.01, 0.1, 0.2],\n",
    "    \"subsample\": [0.8, 1, 1.2],\n",
    "}\n",
    "# Define Grid\n",
    "grid = GridSearchCV(\n",
    "    estimator=xgb_model,\n",
    "    param_grid=param_grid,\n",
    "    scoring=\"neg_log_loss\",\n",
    "    cv=3,\n",
    "    verbose=1\n",
    ")\n",
    "\n",
    "# Fit and use best estimator\n",
    "grid.fit(X_train, y_train)\n",
    "print(grid.best_params_)\n",
    "best_xgb = grid.best_estimator_\n"
   ]
  },
  {
   "cell_type": "code",
   "execution_count": 63,
   "metadata": {},
   "outputs": [
    {
     "name": "stdout",
     "output_type": "stream",
     "text": [
      "Classification Report:\n",
      "               precision    recall  f1-score   support\n",
      "\n",
      "         0.0       0.98      1.00      0.99       400\n",
      "         1.0       0.99      0.92      0.95        99\n",
      "\n",
      "    accuracy                           0.98       499\n",
      "   macro avg       0.98      0.96      0.97       499\n",
      "weighted avg       0.98      0.98      0.98       499\n",
      "\n",
      "0.9 Threshold Classification Report:\n",
      "               precision    recall  f1-score   support\n",
      "\n",
      "         0.0       0.97      1.00      0.99       400\n",
      "         1.0       0.99      0.89      0.94        99\n",
      "\n",
      "    accuracy                           0.98       499\n",
      "   macro avg       0.98      0.94      0.96       499\n",
      "weighted avg       0.98      0.98      0.98       499\n",
      "\n"
     ]
    }
   ],
   "source": [
    "#Predictions and Threshold predictions\n",
    "y_pred = best_xgb.predict(X_test)\n",
    "y_pred_proba = best_xgb.predict_proba(X_test)[:, 1]\n",
    "\n",
    "threshold = 0.9\n",
    "y_pred_threshold = (y_pred_proba[:] > threshold).astype(int)\n",
    "\n",
    "print(\"Classification Report:\\n\", classification_report(y_test, y_pred))\n",
    "print(f\"{threshold} Threshold Classification Report:\\n\", classification_report(y_test, y_pred_threshold))"
   ]
  },
  {
   "cell_type": "markdown",
   "metadata": {},
   "source": [
    "### Classifier - RandomForest - Baseline"
   ]
  },
  {
   "cell_type": "code",
   "execution_count": 64,
   "metadata": {},
   "outputs": [
    {
     "name": "stdout",
     "output_type": "stream",
     "text": [
      "Fitting 3 folds for each of 24 candidates, totalling 72 fits\n",
      "{'max_depth': 10, 'min_samples_leaf': 1, 'min_samples_split': 2, 'n_estimators': 200}\n"
     ]
    }
   ],
   "source": [
    "#Define the Random Forest model\n",
    "rf_model = RandomForestClassifier(random_state=42)\n",
    "\n",
    "#Define grid search for hyperparameter tuning of Random Forest\n",
    "param_grid = {\n",
    "    'n_estimators': [100, 200],\n",
    "    'max_depth': [None, 10, 20],\n",
    "    'min_samples_split': [2, 5],\n",
    "    'min_samples_leaf': [1, 2],\n",
    "}\n",
    "# Define Grid for RandomForest\n",
    "grid = GridSearchCV(\n",
    "    estimator=rf_model,\n",
    "    param_grid=param_grid,\n",
    "    scoring=\"neg_log_loss\",\n",
    "    cv=3,\n",
    "    verbose=1\n",
    ")\n",
    "\n",
    "#Fit and use best estimator\n",
    "grid.fit(X_train, y_train)\n",
    "print(grid.best_params_)\n",
    "best_rf = grid.best_estimator_"
   ]
  },
  {
   "cell_type": "code",
   "execution_count": 65,
   "metadata": {},
   "outputs": [
    {
     "name": "stdout",
     "output_type": "stream",
     "text": [
      "Classification Report:\n",
      "               precision    recall  f1-score   support\n",
      "\n",
      "         0.0       0.97      1.00      0.99       400\n",
      "         1.0       0.99      0.89      0.94        99\n",
      "\n",
      "    accuracy                           0.98       499\n",
      "   macro avg       0.98      0.94      0.96       499\n",
      "weighted avg       0.98      0.98      0.98       499\n",
      "\n",
      "0.9 Threshold Classification Report:\n",
      "               precision    recall  f1-score   support\n",
      "\n",
      "         0.0       0.96      1.00      0.98       400\n",
      "         1.0       1.00      0.83      0.91        99\n",
      "\n",
      "    accuracy                           0.97       499\n",
      "   macro avg       0.98      0.91      0.94       499\n",
      "weighted avg       0.97      0.97      0.96       499\n",
      "\n"
     ]
    }
   ],
   "source": [
    "#Predictions and Threshold predictions\n",
    "y_pred = best_rf.predict(X_test)\n",
    "y_pred_proba = best_rf.predict_proba(X_test)[:, 1]\n",
    "\n",
    "y_pred_threshold = (y_pred_proba[:] > threshold).astype(int)\n",
    "\n",
    "print(\"Classification Report:\\n\", classification_report(y_test, y_pred))\n",
    "print(f\"{threshold} Threshold Classification Report:\\n\", classification_report(y_test, y_pred_threshold))"
   ]
  },
  {
   "cell_type": "markdown",
   "metadata": {},
   "source": [
    "### Classifier - Logistic Regression - Baseline"
   ]
  },
  {
   "cell_type": "code",
   "execution_count": 70,
   "metadata": {},
   "outputs": [
    {
     "name": "stdout",
     "output_type": "stream",
     "text": [
      "Fitting 3 folds for each of 20 candidates, totalling 60 fits\n",
      "{'C': 10, 'penalty': 'l1', 'solver': 'liblinear'}\n"
     ]
    }
   ],
   "source": [
    "log_reg = LogisticRegression(random_state=42)\n",
    "\n",
    "param_grid = {\n",
    "    'C': [0.01, 0.1, 1, 10, 100],  \n",
    "    'penalty': ['l2', 'l1'],       \n",
    "    'solver': ['liblinear', 'saga'] \n",
    "}\n",
    "\n",
    "grid = GridSearchCV(\n",
    "    estimator=log_reg,\n",
    "    param_grid=param_grid,\n",
    "    scoring='neg_log_loss',\n",
    "    cv=3,\n",
    "    verbose=1\n",
    ")\n",
    "\n",
    "grid.fit(X_train, y_train)\n",
    "print(grid.best_params_)\n",
    "best_log_reg = grid.best_estimator_"
   ]
  },
  {
   "cell_type": "code",
   "execution_count": 71,
   "metadata": {},
   "outputs": [
    {
     "name": "stdout",
     "output_type": "stream",
     "text": [
      "Classification Report:\n",
      "               precision    recall  f1-score   support\n",
      "\n",
      "         0.0       0.98      0.99      0.99       400\n",
      "         1.0       0.97      0.91      0.94        99\n",
      "\n",
      "    accuracy                           0.98       499\n",
      "   macro avg       0.97      0.95      0.96       499\n",
      "weighted avg       0.98      0.98      0.98       499\n",
      "\n",
      "0.9 Threshold Classification Report:\n",
      "               precision    recall  f1-score   support\n",
      "\n",
      "         0.0       0.96      1.00      0.98       400\n",
      "         1.0       1.00      0.83      0.91        99\n",
      "\n",
      "    accuracy                           0.97       499\n",
      "   macro avg       0.98      0.91      0.94       499\n",
      "weighted avg       0.97      0.97      0.96       499\n",
      "\n"
     ]
    }
   ],
   "source": [
    "#Predictions and Threshold predictions\n",
    "y_pred = best_log_reg.predict(X_test)\n",
    "y_pred_proba = best_log_reg.predict_proba(X_test)[:, 1]\n",
    "\n",
    "y_pred_threshold = (y_pred_proba[:] > threshold).astype(int)\n",
    "\n",
    "print(\"Classification Report:\\n\", classification_report(y_test, y_pred))\n",
    "print(f\"{threshold} Threshold Classification Report:\\n\", classification_report(y_test, y_pred_threshold))"
   ]
  },
  {
   "cell_type": "code",
   "execution_count": null,
   "metadata": {},
   "outputs": [],
   "source": []
  }
 ],
 "metadata": {
  "kernelspec": {
   "display_name": ".venv",
   "language": "python",
   "name": "python3"
  },
  "language_info": {
   "codemirror_mode": {
    "name": "ipython",
    "version": 3
   },
   "file_extension": ".py",
   "mimetype": "text/x-python",
   "name": "python",
   "nbconvert_exporter": "python",
   "pygments_lexer": "ipython3",
   "version": "3.10.9"
  }
 },
 "nbformat": 4,
 "nbformat_minor": 2
}
